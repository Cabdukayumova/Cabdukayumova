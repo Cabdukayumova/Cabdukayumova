{
  "nbformat": 4,
  "nbformat_minor": 0,
  "metadata": {
    "colab": {
      "name": "DL2",
      "provenance": [],
      "authorship_tag": "ABX9TyPs4PHx5x+L+90kGB2Yw/S4",
      "include_colab_link": true
    },
    "kernelspec": {
      "name": "python3",
      "display_name": "Python 3"
    },
    "language_info": {
      "name": "python"
    }
  },
  "cells": [
    {
      "cell_type": "markdown",
      "metadata": {
        "id": "view-in-github",
        "colab_type": "text"
      },
      "source": [
        "<a href=\"https://colab.research.google.com/github/Cabdukayumova/ML-DL/blob/main/DL2.ipynb\" target=\"_parent\"><img src=\"https://colab.research.google.com/assets/colab-badge.svg\" alt=\"Open In Colab\"/></a>"
      ]
    },
    {
      "cell_type": "code",
      "execution_count": null,
      "metadata": {
        "id": "SQ36Zen3SIq-"
      },
      "outputs": [],
      "source": [
        "import numpy as np\n",
        "import matplotlib.pyplot as plt\n",
        "import os\n",
        "import cv2\n",
        "\n",
        "DATADIR = \"C:/ML/PetImages\"\n",
        "CATEGORIES = [\"Dog\", \"Cat\"]\n",
        "\n",
        "for category in CATEGORIES:\n",
        "  path = os.path.join(DATADIR, category) #path to cats and dogs\n",
        "  for img in os.listdir(path):\n",
        "    img_array = cv2.imread(os.path.join(path, img), cv2.IMREAD_GREYSCALE)\n",
        "    plt.imshow(img_array, cmap = \"gray\")\n",
        "    plt.show()\n",
        "    break\n",
        "  break"
      ]
    },
    {
      "cell_type": "code",
      "source": [
        "print(img_array.shape)"
      ],
      "metadata": {
        "id": "jZeSAirgmlDs"
      },
      "execution_count": null,
      "outputs": []
    },
    {
      "cell_type": "code",
      "source": [
        "IMG_SIZE = 50\n",
        "\n",
        "new_array = cv2.resize(img_array, (IMG_SIZE, IMG_SIZE))\n",
        "plt.imshow(new_array, cmap = 'gray')\n",
        "plt.show()"
      ],
      "metadata": {
        "id": "rwpwEslbmos9"
      },
      "execution_count": null,
      "outputs": []
    }
  ]
}